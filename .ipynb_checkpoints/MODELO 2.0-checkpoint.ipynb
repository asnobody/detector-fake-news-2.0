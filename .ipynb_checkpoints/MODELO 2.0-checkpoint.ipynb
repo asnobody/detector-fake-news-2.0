{
 "cells": [
  {
   "cell_type": "markdown",
   "id": "5736bf7b-0a00-4dc9-ad1e-3c50d32e9cba",
   "metadata": {},
   "source": [
    "# Treinamento e Salvamento do Modelo Gradient Boosting"
   ]
  },
  {
   "cell_type": "code",
   "execution_count": 11,
   "id": "a11c402e-6f35-42f2-924b-4c844757f8a8",
   "metadata": {},
   "outputs": [],
   "source": [
    "import pandas as pd\n",
    "import re\n",
    "import string\n",
    "import joblib\n",
    "from sklearn.feature_extraction.text import TfidfVectorizer\n",
    "from sklearn.ensemble import GradientBoostingClassifier\n",
    "\n",
    "import pandas as pd\n",
    "import re\n",
    "import string\n",
    "import joblib\n",
    "from sklearn.feature_extraction.text import TfidfVectorizer\n",
    "from sklearn.model_selection import train_test_split\n",
    "from sklearn.ensemble import GradientBoostingClassifier\n",
    "\n",
    "\n",
    "# Importações necessárias\n",
    "import pandas as pd\n",
    "import re\n",
    "import string\n",
    "import joblib\n",
    "import numpy as np\n",
    "import matplotlib.pyplot as plt\n",
    "import seaborn as sns\n",
    "\n",
    "from sklearn.feature_extraction.text import TfidfVectorizer\n",
    "from sklearn.model_selection import train_test_split, cross_val_score, learning_curve, StratifiedKFold\n",
    "from sklearn.ensemble import GradientBoostingClassifier\n",
    "from sklearn.metrics import confusion_matrix, classification_report, roc_auc_score, roc_curve, accuracy_score\n",
    "\n",
    "# Configuração de estilo para gráficos (CORREÇÃO: Usar 'seaborn-v0_8' ou 'ggplot')\n",
    "plt.style.use('seaborn-v0_8')  # Alternativa: 'ggplot', 'fivethirtyeight'\n",
    "sns.set_theme(style=\"whitegrid\")  # Configuração moderna do Seaborn\n",
    "%matplotlib inline"
   ]
  },
  {
   "cell_type": "markdown",
   "id": "3970f05d-3533-4b76-a65b-abdc936457c1",
   "metadata": {},
   "source": [
    "Pré-processamento dos Dados"
   ]
  },
  {
   "cell_type": "code",
   "execution_count": null,
   "id": "bcd49e93-74df-4268-9352-9f2ff662704d",
   "metadata": {},
   "outputs": [
    {
     "name": "stdout",
     "output_type": "stream",
     "text": [
      "Distribuição de classes (0 = Fake, 1 = Real):\n",
      "class\n",
      "0    0.522985\n",
      "1    0.477015\n",
      "Name: proportion, dtype: float64\n",
      "Diversidade de vocabulário por notícia (número de palavras únicas):\n",
      "count    44898.000000\n",
      "mean       208.756849\n",
      "std        133.015972\n",
      "min          0.000000\n",
      "25%        126.000000\n",
      "50%        201.000000\n",
      "75%        264.000000\n",
      "max       2407.000000\n",
      "Name: text, dtype: float64\n",
      "Treinando o modelo...\n"
     ]
    }
   ],
   "source": [
    "# Função de pré-processamento\n",
    "def preprocess_text(text):\n",
    "    text = text.lower()\n",
    "    text = re.sub(r'\\[.*?\\]', '', text)\n",
    "    text = re.sub(r'\\W', ' ', text)\n",
    "    text = re.sub(r'https?://\\S+|www\\.\\S+', '', text)\n",
    "    text = re.sub(r'<.*?>+', '', text)\n",
    "    text = re.sub(r'[%s]' % re.escape(string.punctuation), '', text)\n",
    "    text = re.sub(r'\\n', ' ', text)\n",
    "    text = re.sub(r'\\w*\\d\\w*', '', text)\n",
    "    return text\n",
    "\n",
    "# Carregar dados\n",
    "df_fake = pd.read_csv(\"Fake.csv\")\n",
    "df_true = pd.read_csv(\"True.csv\")\n",
    "df_fake[\"class\"] = 0\n",
    "df_true[\"class\"] = 1\n",
    "df = pd.concat([df_fake, df_true])\n",
    "df = df.drop(columns=[\"title\", \"subject\", \"date\"])\n",
    "df = df.sample(frac=1, random_state=42).reset_index(drop=True)\n",
    "df[\"text\"] = df[\"text\"].apply(preprocess_text)\n",
    "\n",
    "# Verificar balanceamento das classes\n",
    "print(\"Distribuição de classes (0 = Fake, 1 = Real):\")\n",
    "print(df['class'].value_counts(normalize=True))\n",
    "\n",
    "# Verificar diversidade do vocabulário por notícia\n",
    "print(\"Diversidade de vocabulário por notícia (número de palavras únicas):\")\n",
    "print(df[\"text\"].apply(lambda x: len(set(x.split()))).describe())\n",
    "\n",
    "\n",
    "# Dividir dados\n",
    "X = df[\"text\"]\n",
    "y = df[\"class\"]\n",
    "X_train, X_test, y_train, y_test = train_test_split(X, y, test_size=0.25, random_state=42)\n",
    "\n",
    "# Vetorização\n",
    "vectorizer = TfidfVectorizer()\n",
    "X_train_vec = vectorizer.fit_transform(X_train)\n",
    "X_test_vec = vectorizer.transform(X_test)\n",
    "\n",
    "\n",
    "# Modelo com controle de complexidade para evitar overfitting\n",
    "gb_model = GradientBoostingClassifier(\n",
    "    n_estimators=100,\n",
    "    max_depth=3,\n",
    "    learning_rate=0.1,\n",
    "    random_state=42\n",
    ")\n",
    "print(\"Treinando o modelo...\")\n",
    "gb_model.fit(X_train_vec, y_train)\n",
    "\n",
    "# Salvar os arquivos .pkl\n",
    "joblib.dump(gb_model, \"modelo_treinado.pkl\")\n",
    "joblib.dump(vectorizer, \"tfidf_vectorizer.pkl\")\n",
    "joblib.dump((X_test_vec, y_test), \"test_data.pkl\")\n",
    "print(\"Modelo e vetorizador salvos!\")"
   ]
  },
  {
   "cell_type": "code",
   "execution_count": null,
   "id": "11fd6ec7-ba2b-4c4f-844e-541d77ad2181",
   "metadata": {},
   "outputs": [],
   "source": [
    "import joblib\n",
    "import matplotlib.pyplot as plt\n",
    "import seaborn as sns\n",
    "from sklearn.metrics import accuracy_score, confusion_matrix, classification_report\n",
    "\n",
    "# Carregar modelo, vetorizador e dados de teste\n",
    "gb_model = joblib.load(\"modelo_treinado.pkl\")\n",
    "vectorizer = joblib.load(\"tfidf_vectorizer.pkl\")\n",
    "X_test_vec, y_test = joblib.load(\"test_data.pkl\")\n",
    "\n",
    "# Previsão\n",
    "y_pred = model.predict(X_test_vec)\n",
    "\n",
    "# Avaliação\n",
    "acc = accuracy_score(y_test, y_pred)\n",
    "cm = confusion_matrix(y_test, y_pred)\n",
    "\n",
    "print(f\"Acurácia: {acc:.2f}\")\n",
    "print(\"\\nRelatório de Classificação:\")\n",
    "print(classification_report(y_test, y_pred, target_names=[\"Fake\", \"Real\"]))\n",
    "\n",
    "# Matriz de confusão\n",
    "plt.figure(figsize=(6,5))\n",
    "sns.heatmap(cm, annot=True, fmt='d', cmap='Blues', xticklabels=[\"Fake\", \"Real\"], yticklabels=[\"Fake\", \"Real\"])\n",
    "plt.xlabel(\"Previsto\")\n",
    "plt.ylabel(\"Real\")\n",
    "plt.title(\"Matriz de Confusão - Modelo Carregado\")\n",
    "plt.tight_layout()\n",
    "plt.show()"
   ]
  },
  {
   "cell_type": "code",
   "execution_count": 9,
   "id": "dc6b8df0-da5e-410e-9b51-4deeccc8c241",
   "metadata": {},
   "outputs": [
    {
     "ename": "NameError",
     "evalue": "name 'gb_model' is not defined",
     "output_type": "error",
     "traceback": [
      "\u001b[0;31m---------------------------------------------------------------------------\u001b[0m",
      "\u001b[0;31mNameError\u001b[0m                                 Traceback (most recent call last)",
      "Cell \u001b[0;32mIn[9], line 3\u001b[0m\n\u001b[1;32m      1\u001b[0m \u001b[38;5;66;03m#MODELO 1.0\u001b[39;00m\n\u001b[1;32m      2\u001b[0m cv \u001b[38;5;241m=\u001b[39m StratifiedKFold(n_splits\u001b[38;5;241m=\u001b[39m\u001b[38;5;241m5\u001b[39m, shuffle\u001b[38;5;241m=\u001b[39m\u001b[38;5;28;01mTrue\u001b[39;00m, random_state\u001b[38;5;241m=\u001b[39m\u001b[38;5;241m42\u001b[39m)\n\u001b[0;32m----> 3\u001b[0m cv_scores \u001b[38;5;241m=\u001b[39m cross_val_score(\u001b[43mgb_model\u001b[49m, X_train_vec, y_train, cv\u001b[38;5;241m=\u001b[39mcv, scoring\u001b[38;5;241m=\u001b[39m\u001b[38;5;124m'\u001b[39m\u001b[38;5;124maccuracy\u001b[39m\u001b[38;5;124m'\u001b[39m)\n\u001b[1;32m      4\u001b[0m \u001b[38;5;28mprint\u001b[39m(\u001b[38;5;124m\"\u001b[39m\u001b[38;5;130;01m\\n\u001b[39;00m\u001b[38;5;124mAcurácia média na validação cruzada:\u001b[39m\u001b[38;5;124m\"\u001b[39m, np\u001b[38;5;241m.\u001b[39mmean(cv_scores))\n\u001b[1;32m      5\u001b[0m \u001b[38;5;28mprint\u001b[39m(\u001b[38;5;124m\"\u001b[39m\u001b[38;5;124mDesvio padrão:\u001b[39m\u001b[38;5;124m\"\u001b[39m, np\u001b[38;5;241m.\u001b[39mstd(cv_scores))\n",
      "\u001b[0;31mNameError\u001b[0m: name 'gb_model' is not defined"
     ]
    }
   ],
   "source": [
    "#MODELO 1.0\n",
    "cv = StratifiedKFold(n_splits=5, shuffle=True, random_state=42)\n",
    "cv_scores = cross_val_score(gb_model, X_train_vec, y_train, cv=cv, scoring='accuracy')\n",
    "print(\"\\nAcurácia média na validação cruzada:\", np.mean(cv_scores))\n",
    "print(\"Desvio padrão:\", np.std(cv_scores))"
   ]
  },
  {
   "cell_type": "code",
   "execution_count": 8,
   "id": "14577109-2843-4715-8088-de042d844a9b",
   "metadata": {},
   "outputs": [
    {
     "ename": "NameError",
     "evalue": "name 'y_pred_proba' is not defined",
     "output_type": "error",
     "traceback": [
      "\u001b[0;31m---------------------------------------------------------------------------\u001b[0m",
      "\u001b[0;31mNameError\u001b[0m                                 Traceback (most recent call last)",
      "Cell \u001b[0;32mIn[8], line 1\u001b[0m\n\u001b[0;32m----> 1\u001b[0m fpr, tpr, _ \u001b[38;5;241m=\u001b[39m roc_curve(y_test, \u001b[43my_pred_proba\u001b[49m)\n\u001b[1;32m      2\u001b[0m auc_score \u001b[38;5;241m=\u001b[39m roc_auc_score(y_test, y_pred_proba)\n\u001b[1;32m      4\u001b[0m plt\u001b[38;5;241m.\u001b[39mfigure(figsize\u001b[38;5;241m=\u001b[39m(\u001b[38;5;241m8\u001b[39m, \u001b[38;5;241m6\u001b[39m))\n",
      "\u001b[0;31mNameError\u001b[0m: name 'y_pred_proba' is not defined"
     ]
    }
   ],
   "source": [
    "fpr, tpr, _ = roc_curve(y_test, y_pred_proba)\n",
    "auc_score = roc_auc_score(y_test, y_pred_proba)\n",
    "\n",
    "plt.figure(figsize=(8, 6))\n",
    "plt.plot(fpr, tpr, label=f'AUC = {auc_score:.2f}')\n",
    "plt.plot([0, 1], [0, 1], 'k--')\n",
    "plt.xlabel('Taxa de Falsos Positivos')\n",
    "plt.ylabel('Taxa de Verdadeiros Positivos')\n",
    "plt.title('Curva ROC')\n",
    "plt.legend()\n",
    "plt.show()"
   ]
  },
  {
   "cell_type": "code",
   "execution_count": null,
   "id": "9e0db4fa-605a-4834-bb56-b60bd27aa298",
   "metadata": {},
   "outputs": [],
   "source": [
    "train_sizes, train_scores, test_scores = learning_curve(\n",
    "    gb_model, X_train_vec, y_train, cv=5, n_jobs=-1,\n",
    "    train_sizes=np.linspace(0.1, 1.0, 5),\n",
    "    scoring='accuracy'\n",
    ")\n",
    "\n",
    "plt.figure(figsize=(8, 6))\n",
    "plt.plot(train_sizes, np.mean(train_scores, axis=1), 'o-', label='Treino')\n",
    "plt.plot(train_sizes, np.mean(test_scores, axis=1), 'o-', label='Validação')\n",
    "plt.xlabel('Tamanho do Conjunto de Treino')\n",
    "plt.ylabel('Acurácia')\n",
    "plt.title('Curva de Aprendizado')\n",
    "plt.legend()\n",
    "plt.show()"
   ]
  },
  {
   "cell_type": "code",
   "execution_count": null,
   "id": "04331ded-c652-44fc-8ff2-3d0b2d6c5ba4",
   "metadata": {},
   "outputs": [],
   "source": [
    "train_acc = []\n",
    "test_acc = []\n",
    "for i, pred in enumerate(gb_model.staged_predict(X_train_vec)):\n",
    "    train_acc.append(accuracy_score(y_train, pred))\n",
    "for i, pred in enumerate(gb_model.staged_predict(X_test_vec)):\n",
    "    test_acc.append(accuracy_score(y_test, pred))\n",
    "\n",
    "plt.figure(figsize=(8, 6))\n",
    "plt.plot(train_acc, label='Treino')\n",
    "plt.plot(test_acc, label='Teste')\n",
    "plt.xlabel('Número de Estimadores')\n",
    "plt.ylabel('Acurácia')\n",
    "plt.title('Evolução da Acurácia durante o Treinamento')\n",
    "plt.legend()\n",
    "plt.show()"
   ]
  },
  {
   "cell_type": "code",
   "execution_count": null,
   "id": "62f7ffa4-d67f-4b71-819f-7f6bc19dac95",
   "metadata": {},
   "outputs": [],
   "source": [
    "history = {\n",
    "    'train_accuracy': train_acc,\n",
    "    'test_accuracy': test_acc,\n",
    "    'cv_scores': cv_scores.tolist(),\n",
    "    'classification_report': classification_report(y_test, y_pred, output_dict=True),\n",
    "    'roc_auc': auc_score,\n",
    "    'confusion_matrix': cm.tolist()\n",
    "}\n",
    "\n",
    "joblib.dump(history, 'training_history.pkl')\n",
    "print(\"Histórico salvo com sucesso!\")"
   ]
  },
  {
   "cell_type": "code",
   "execution_count": null,
   "id": "08caac7e-71f7-4788-b80a-5ede88259936",
   "metadata": {},
   "outputs": [],
   "source": []
  }
 ],
 "metadata": {
  "kernelspec": {
   "display_name": "Python 3.10 (TF)",
   "language": "python",
   "name": "tf310"
  },
  "language_info": {
   "codemirror_mode": {
    "name": "ipython",
    "version": 3
   },
   "file_extension": ".py",
   "mimetype": "text/x-python",
   "name": "python",
   "nbconvert_exporter": "python",
   "pygments_lexer": "ipython3",
   "version": "3.10.17"
  }
 },
 "nbformat": 4,
 "nbformat_minor": 5
}
